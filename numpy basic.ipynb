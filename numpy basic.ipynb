{
 "cells": [
  {
   "cell_type": "code",
   "execution_count": 19,
   "id": "78d3d791-8015-47c3-9d5c-81d95d237a9b",
   "metadata": {},
   "outputs": [],
   "source": [
    "import numpy as np"
   ]
  },
  {
   "cell_type": "code",
   "execution_count": 20,
   "id": "98e079da-560e-4e2a-907f-ba123aa009e1",
   "metadata": {},
   "outputs": [],
   "source": [
    "\n",
    "# Creating array object\n",
    "arr = np.array( [[ 1, 2, 3],\n",
    "                 [ 4, 2, 5]] )"
   ]
  },
  {
   "cell_type": "code",
   "execution_count": 21,
   "id": "d8c3f0b5-c8c7-4021-b293-b09de61bb31f",
   "metadata": {},
   "outputs": [
    {
     "name": "stdout",
     "output_type": "stream",
     "text": [
      "Array is of type:  <class 'numpy.ndarray'>\n"
     ]
    }
   ],
   "source": [
    "# Printing type of arr object\n",
    "print(\"Array is of type: \", type(arr))"
   ]
  },
  {
   "cell_type": "code",
   "execution_count": 22,
   "id": "9a2fe0b3-abae-4494-8b82-c22cf12f44f2",
   "metadata": {},
   "outputs": [
    {
     "name": "stdout",
     "output_type": "stream",
     "text": [
      "No. of dimensions:  2\n"
     ]
    }
   ],
   "source": [
    "\n",
    " #Printing array dimensions (axes)\n",
    "print(\"No. of dimensions: \", arr.ndim)"
   ]
  },
  {
   "cell_type": "code",
   "execution_count": 23,
   "id": "cafd606e-143d-4c73-b521-da41414b5810",
   "metadata": {},
   "outputs": [
    {
     "name": "stdout",
     "output_type": "stream",
     "text": [
      "Shape of array:  (2, 3)\n"
     ]
    }
   ],
   "source": [
    "# Printing shape of array\n",
    "print(\"Shape of array: \", arr.shape)"
   ]
  },
  {
   "cell_type": "code",
   "execution_count": 24,
   "id": "984f455c-8507-4cab-b9e0-fa6e75575932",
   "metadata": {},
   "outputs": [
    {
     "name": "stdout",
     "output_type": "stream",
     "text": [
      "Size of array:  6\n"
     ]
    }
   ],
   "source": [
    "# Printing size (total number of elements) of array\n",
    "print(\"Size of array: \", arr.size)"
   ]
  },
  {
   "cell_type": "code",
   "execution_count": 25,
   "id": "fa1a68af-efd6-460a-a8e4-a6ee0a4101b5",
   "metadata": {},
   "outputs": [
    {
     "name": "stdout",
     "output_type": "stream",
     "text": [
      "Array stores elements of type:  int32\n"
     ]
    }
   ],
   "source": [
    "# Printing type of elements in array\n",
    "print(\"Array stores elements of type: \", arr.dtype)"
   ]
  },
  {
   "cell_type": "code",
   "execution_count": null,
   "id": "c9d4ea63-7a3e-421b-9903-a7c102e60b22",
   "metadata": {},
   "outputs": [],
   "source": []
  }
 ],
 "metadata": {
  "kernelspec": {
   "display_name": "Python 3 (ipykernel)",
   "language": "python",
   "name": "python3"
  },
  "language_info": {
   "codemirror_mode": {
    "name": "ipython",
    "version": 3
   },
   "file_extension": ".py",
   "mimetype": "text/x-python",
   "name": "python",
   "nbconvert_exporter": "python",
   "pygments_lexer": "ipython3",
   "version": "3.12.3"
  }
 },
 "nbformat": 4,
 "nbformat_minor": 5
}
